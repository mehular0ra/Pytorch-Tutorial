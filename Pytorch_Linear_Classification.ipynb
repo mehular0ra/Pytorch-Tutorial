{
  "nbformat": 4,
  "nbformat_minor": 0,
  "metadata": {
    "colab": {
      "name": "Pytorch Linear Classification.ipynb",
      "provenance": [],
      "authorship_tag": "ABX9TyNjKjxfCUfl/pfCEmQ8XO8i",
      "include_colab_link": true
    },
    "kernelspec": {
      "name": "python3",
      "display_name": "Python 3"
    },
    "language_info": {
      "name": "python"
    }
  },
  "cells": [
    {
      "cell_type": "markdown",
      "metadata": {
        "id": "view-in-github",
        "colab_type": "text"
      },
      "source": [
        "<a href=\"https://colab.research.google.com/github/mehular0ra/Pytorch-Tutorial/blob/main/Pytorch_Linear_Classification.ipynb\" target=\"_parent\"><img src=\"https://colab.research.google.com/assets/colab-badge.svg\" alt=\"Open In Colab\"/></a>"
      ]
    },
    {
      "cell_type": "code",
      "execution_count": 1,
      "metadata": {
        "id": "dfFfz1LI7dK4"
      },
      "outputs": [],
      "source": [
        "import torch \n",
        "import torch.nn as nn\n",
        "import numpy as np\n",
        "import pandas as pd\n",
        "import matplotlib.pyplot as plt"
      ]
    },
    {
      "cell_type": "code",
      "source": [
        "# load in the data\n",
        "from sklearn.datasets import load_breast_cancer"
      ],
      "metadata": {
        "id": "NiT6oCmr8Bnv"
      },
      "execution_count": 2,
      "outputs": []
    },
    {
      "cell_type": "code",
      "source": [
        "# load the data\n",
        "data = load_breast_cancer()"
      ],
      "metadata": {
        "id": "HPvFxyQk8Ug3"
      },
      "execution_count": 3,
      "outputs": []
    },
    {
      "cell_type": "code",
      "source": [
        "type(data)"
      ],
      "metadata": {
        "colab": {
          "base_uri": "https://localhost:8080/"
        },
        "id": "AQYRy6TG-Lm9",
        "outputId": "0187db28-dbf5-4831-ddaa-74f22029799c"
      },
      "execution_count": 4,
      "outputs": [
        {
          "output_type": "execute_result",
          "data": {
            "text/plain": [
              "sklearn.utils.Bunch"
            ]
          },
          "metadata": {},
          "execution_count": 4
        }
      ]
    },
    {
      "cell_type": "code",
      "source": [
        "data.keys()"
      ],
      "metadata": {
        "colab": {
          "base_uri": "https://localhost:8080/"
        },
        "id": "fcKFYEMk-Mf5",
        "outputId": "317584b5-f532-459d-a59a-012e0e9ccad4"
      },
      "execution_count": 5,
      "outputs": [
        {
          "output_type": "execute_result",
          "data": {
            "text/plain": [
              "dict_keys(['data', 'target', 'frame', 'target_names', 'DESCR', 'feature_names', 'filename', 'data_module'])"
            ]
          },
          "metadata": {},
          "execution_count": 5
        }
      ]
    },
    {
      "cell_type": "code",
      "source": [
        "data.data.shape"
      ],
      "metadata": {
        "colab": {
          "base_uri": "https://localhost:8080/"
        },
        "id": "bUYh0eLg-OXS",
        "outputId": "3b565f75-b27c-4fdb-bd8b-dc40b6b0cd1d"
      },
      "execution_count": 6,
      "outputs": [
        {
          "output_type": "execute_result",
          "data": {
            "text/plain": [
              "(569, 30)"
            ]
          },
          "metadata": {},
          "execution_count": 6
        }
      ]
    },
    {
      "cell_type": "code",
      "source": [
        "print(data.target)\n"
      ],
      "metadata": {
        "colab": {
          "base_uri": "https://localhost:8080/"
        },
        "id": "SkGQuqce-hCF",
        "outputId": "9b8bb1bc-2550-46bb-b319-cb7d1cd391fe"
      },
      "execution_count": 10,
      "outputs": [
        {
          "output_type": "stream",
          "name": "stdout",
          "text": [
            "[0 0 0 0 0 0 0 0 0 0 0 0 0 0 0 0 0 0 0 1 1 1 0 0 0 0 0 0 0 0 0 0 0 0 0 0 0\n",
            " 1 0 0 0 0 0 0 0 0 1 0 1 1 1 1 1 0 0 1 0 0 1 1 1 1 0 1 0 0 1 1 1 1 0 1 0 0\n",
            " 1 0 1 0 0 1 1 1 0 0 1 0 0 0 1 1 1 0 1 1 0 0 1 1 1 0 0 1 1 1 1 0 1 1 0 1 1\n",
            " 1 1 1 1 1 1 0 0 0 1 0 0 1 1 1 0 0 1 0 1 0 0 1 0 0 1 1 0 1 1 0 1 1 1 1 0 1\n",
            " 1 1 1 1 1 1 1 1 0 1 1 1 1 0 0 1 0 1 1 0 0 1 1 0 0 1 1 1 1 0 1 1 0 0 0 1 0\n",
            " 1 0 1 1 1 0 1 1 0 0 1 0 0 0 0 1 0 0 0 1 0 1 0 1 1 0 1 0 0 0 0 1 1 0 0 1 1\n",
            " 1 0 1 1 1 1 1 0 0 1 1 0 1 1 0 0 1 0 1 1 1 1 0 1 1 1 1 1 0 1 0 0 0 0 0 0 0\n",
            " 0 0 0 0 0 0 0 1 1 1 1 1 1 0 1 0 1 1 0 1 1 0 1 0 0 1 1 1 1 1 1 1 1 1 1 1 1\n",
            " 1 0 1 1 0 1 0 1 1 1 1 1 1 1 1 1 1 1 1 1 1 0 1 1 1 0 1 0 1 1 1 1 0 0 0 1 1\n",
            " 1 1 0 1 0 1 0 1 1 1 0 1 1 1 1 1 1 1 0 0 0 1 1 1 1 1 1 1 1 1 1 1 0 0 1 0 0\n",
            " 0 1 0 0 1 1 1 1 1 0 1 1 1 1 1 0 1 1 1 0 1 1 0 0 1 1 1 1 1 1 0 1 1 1 1 1 1\n",
            " 1 0 1 1 1 1 1 0 1 1 0 1 1 1 1 1 1 1 1 1 1 1 1 0 1 0 0 1 0 1 1 1 1 1 0 1 1\n",
            " 0 1 0 1 1 0 1 0 1 1 1 1 1 1 1 1 0 0 1 1 1 1 1 1 0 1 1 1 1 1 1 1 1 1 1 0 1\n",
            " 1 1 1 1 1 1 0 1 0 1 1 0 1 1 1 1 1 0 0 1 0 1 0 1 1 1 1 1 0 1 1 0 1 0 1 0 0\n",
            " 1 1 1 0 1 1 1 1 1 1 1 1 1 1 1 0 1 0 0 1 1 1 1 1 1 1 1 1 1 1 1 1 1 1 1 1 1\n",
            " 1 1 1 1 1 1 1 0 0 0 0 0 0 1]\n"
          ]
        }
      ]
    },
    {
      "cell_type": "code",
      "source": [
        "data.target_names"
      ],
      "metadata": {
        "colab": {
          "base_uri": "https://localhost:8080/"
        },
        "id": "U4PRMAfC-ikV",
        "outputId": "af40a15a-ae50-45c2-b960-9e32a3282a62"
      },
      "execution_count": 11,
      "outputs": [
        {
          "output_type": "execute_result",
          "data": {
            "text/plain": [
              "array(['malignant', 'benign'], dtype='<U9')"
            ]
          },
          "metadata": {},
          "execution_count": 11
        }
      ]
    },
    {
      "cell_type": "code",
      "source": [
        "data.target.shape"
      ],
      "metadata": {
        "colab": {
          "base_uri": "https://localhost:8080/"
        },
        "id": "1WEDBc3Q-xGJ",
        "outputId": "14020f62-fb89-434e-f3da-8d70fb0cbd9b"
      },
      "execution_count": 12,
      "outputs": [
        {
          "output_type": "execute_result",
          "data": {
            "text/plain": [
              "(569,)"
            ]
          },
          "metadata": {},
          "execution_count": 12
        }
      ]
    },
    {
      "cell_type": "code",
      "source": [
        "data.feature_names"
      ],
      "metadata": {
        "colab": {
          "base_uri": "https://localhost:8080/"
        },
        "id": "oMt7HfsJ-1g3",
        "outputId": "68623d5d-c914-4cf4-f772-5228ca45e4cb"
      },
      "execution_count": 13,
      "outputs": [
        {
          "output_type": "execute_result",
          "data": {
            "text/plain": [
              "array(['mean radius', 'mean texture', 'mean perimeter', 'mean area',\n",
              "       'mean smoothness', 'mean compactness', 'mean concavity',\n",
              "       'mean concave points', 'mean symmetry', 'mean fractal dimension',\n",
              "       'radius error', 'texture error', 'perimeter error', 'area error',\n",
              "       'smoothness error', 'compactness error', 'concavity error',\n",
              "       'concave points error', 'symmetry error',\n",
              "       'fractal dimension error', 'worst radius', 'worst texture',\n",
              "       'worst perimeter', 'worst area', 'worst smoothness',\n",
              "       'worst compactness', 'worst concavity', 'worst concave points',\n",
              "       'worst symmetry', 'worst fractal dimension'], dtype='<U23')"
            ]
          },
          "metadata": {},
          "execution_count": 13
        }
      ]
    },
    {
      "cell_type": "code",
      "source": [
        "help(load_breast_cancer)"
      ],
      "metadata": {
        "colab": {
          "base_uri": "https://localhost:8080/"
        },
        "id": "vr8V__st-7XC",
        "outputId": "e1dc92fb-ea5e-4ab0-f367-f5fce0217e1b"
      },
      "execution_count": 16,
      "outputs": [
        {
          "output_type": "stream",
          "name": "stdout",
          "text": [
            "Help on function load_breast_cancer in module sklearn.datasets._base:\n",
            "\n",
            "load_breast_cancer(*, return_X_y=False, as_frame=False)\n",
            "    Load and return the breast cancer wisconsin dataset (classification).\n",
            "    \n",
            "    The breast cancer dataset is a classic and very easy binary classification\n",
            "    dataset.\n",
            "    \n",
            "    =================   ==============\n",
            "    Classes                          2\n",
            "    Samples per class    212(M),357(B)\n",
            "    Samples total                  569\n",
            "    Dimensionality                  30\n",
            "    Features            real, positive\n",
            "    =================   ==============\n",
            "    \n",
            "    Read more in the :ref:`User Guide <breast_cancer_dataset>`.\n",
            "    \n",
            "    Parameters\n",
            "    ----------\n",
            "    return_X_y : bool, default=False\n",
            "        If True, returns ``(data, target)`` instead of a Bunch object.\n",
            "        See below for more information about the `data` and `target` object.\n",
            "    \n",
            "        .. versionadded:: 0.18\n",
            "    \n",
            "    as_frame : bool, default=False\n",
            "        If True, the data is a pandas DataFrame including columns with\n",
            "        appropriate dtypes (numeric). The target is\n",
            "        a pandas DataFrame or Series depending on the number of target columns.\n",
            "        If `return_X_y` is True, then (`data`, `target`) will be pandas\n",
            "        DataFrames or Series as described below.\n",
            "    \n",
            "        .. versionadded:: 0.23\n",
            "    \n",
            "    Returns\n",
            "    -------\n",
            "    data : :class:`~sklearn.utils.Bunch`\n",
            "        Dictionary-like object, with the following attributes.\n",
            "    \n",
            "        data : {ndarray, dataframe} of shape (569, 30)\n",
            "            The data matrix. If `as_frame=True`, `data` will be a pandas\n",
            "            DataFrame.\n",
            "        target: {ndarray, Series} of shape (569,)\n",
            "            The classification target. If `as_frame=True`, `target` will be\n",
            "            a pandas Series.\n",
            "        feature_names: list\n",
            "            The names of the dataset columns.\n",
            "        target_names: list\n",
            "            The names of target classes.\n",
            "        frame: DataFrame of shape (569, 31)\n",
            "            Only present when `as_frame=True`. DataFrame with `data` and\n",
            "            `target`.\n",
            "    \n",
            "            .. versionadded:: 0.23\n",
            "        DESCR: str\n",
            "            The full description of the dataset.\n",
            "        filename: str\n",
            "            The path to the location of the data.\n",
            "    \n",
            "            .. versionadded:: 0.20\n",
            "    \n",
            "    (data, target) : tuple if ``return_X_y`` is True\n",
            "    \n",
            "        .. versionadded:: 0.18\n",
            "    \n",
            "    The copy of UCI ML Breast Cancer Wisconsin (Diagnostic) dataset is\n",
            "    downloaded from:\n",
            "    https://goo.gl/U2Uwz2\n",
            "    \n",
            "    Examples\n",
            "    --------\n",
            "    Let's say you are interested in the samples 10, 50, and 85, and want to\n",
            "    know their class name.\n",
            "    \n",
            "    >>> from sklearn.datasets import load_breast_cancer\n",
            "    >>> data = load_breast_cancer()\n",
            "    >>> data.target[[10, 50, 85]]\n",
            "    array([0, 1, 0])\n",
            "    >>> list(data.target_names)\n",
            "    ['malignant', 'benign']\n",
            "\n"
          ]
        }
      ]
    },
    {
      "cell_type": "code",
      "source": [
        "# split the data into train and test set \n",
        "# using sklearn.model_selection\n",
        "from sklearn.model_selection import train_test_split\n",
        "X_train, X_test, y_train, y_test = train_test_split(data.data, data.target, test_size=0.33)"
      ],
      "metadata": {
        "id": "4aEBrDq5CfgO"
      },
      "execution_count": 66,
      "outputs": []
    },
    {
      "cell_type": "code",
      "source": [
        "# standardize (normalize) data\n",
        "from sklearn.preprocessing import StandardScaler\n",
        "scaler = StandardScaler()\n",
        "X_train = scaler.fit_transform(X_train)\n",
        "X_test = scaler.transform(X_test)\n",
        "N, D = X_train.shape"
      ],
      "metadata": {
        "id": "_dyMfgDNC_La"
      },
      "execution_count": 67,
      "outputs": []
    },
    {
      "cell_type": "code",
      "source": [
        "# build the logistic regression model\n",
        "model = nn.Sequential(\n",
        "    nn.Linear(D, 1),\n",
        "    nn.Sigmoid()\n",
        ")"
      ],
      "metadata": {
        "id": "xge5nhifEJCe"
      },
      "execution_count": 68,
      "outputs": []
    },
    {
      "cell_type": "code",
      "source": [
        "# loss and optimizer\n",
        "criterion = nn.BCELoss()\n",
        "optimizer = torch.optim.Adam(model.parameters())"
      ],
      "metadata": {
        "id": "SBLJLMPcEeZK"
      },
      "execution_count": 69,
      "outputs": []
    },
    {
      "cell_type": "code",
      "source": [
        "# covert train and test data to float32 format\n",
        "# in pytorch, float32 is by default initialized\n",
        "# in numpy, float64 is by default initialized\n",
        "train_inputs = torch.from_numpy(X_train.astype(np.float32))\n",
        "train_targets = torch.from_numpy(y_train.astype(np.float32)).reshape(-1, 1)\n",
        "\n",
        "test_inputs = torch.from_numpy(X_test.astype(np.float32))\n",
        "test_targets = torch.from_numpy(y_test.astype(np.float32)).reshape(-1, 1)\n"
      ],
      "metadata": {
        "id": "zBfxedaRFmDe"
      },
      "execution_count": 70,
      "outputs": []
    },
    {
      "cell_type": "code",
      "source": [
        "n_epochs = 2000\n",
        "\n",
        "# save the train and test losses\n",
        "train_losses = np.zeros(n_epochs)\n",
        "test_losses = np.zeros(n_epochs)\n",
        "\n",
        "for it in range(n_epochs):\n",
        "    # zero the gradient parameters\n",
        "    optimizer.zero_grad()\n",
        "\n",
        "    # feed-forward (on training data)\n",
        "    train_outputs = model(train_inputs)\n",
        "    train_loss = criterion(train_outputs, train_targets)\n",
        "\n",
        "    # backward and optimize\n",
        "    train_loss.backward()\n",
        "    optimizer.step()\n",
        "\n",
        "    # get the test loss\n",
        "    test_outputs = model(test_inputs)\n",
        "    test_loss = criterion(test_outputs, test_targets)\n",
        "\n",
        "    # save the losses\n",
        "    train_losses[it] = train_loss.item()\n",
        "    test_losses[it] = test_loss.item()\n",
        "\n",
        "    # print the epoch number and the loss at that epoch at 5th iteration\n",
        "    if (it+1) % 10  == 0:\n",
        "        print(f'Epoch: {it+1}/{n_epochs}, Train loss: {train_loss:.4f}, Test Loss: {test_loss:.4f}')\n",
        "\n",
        "    "
      ],
      "metadata": {
        "colab": {
          "base_uri": "https://localhost:8080/"
        },
        "id": "D3rOeIGSFJHt",
        "outputId": "032a5831-c656-4de4-92a7-a98dcf091e74"
      },
      "execution_count": 71,
      "outputs": [
        {
          "output_type": "stream",
          "name": "stdout",
          "text": [
            "Epoch: 10/2000, Train loss: 0.5381, Test Loss: 0.5490\n",
            "Epoch: 20/2000, Train loss: 0.4912, Test Loss: 0.5061\n",
            "Epoch: 30/2000, Train loss: 0.4518, Test Loss: 0.4695\n",
            "Epoch: 40/2000, Train loss: 0.4186, Test Loss: 0.4381\n",
            "Epoch: 50/2000, Train loss: 0.3905, Test Loss: 0.4108\n",
            "Epoch: 60/2000, Train loss: 0.3664, Test Loss: 0.3868\n",
            "Epoch: 70/2000, Train loss: 0.3455, Test Loss: 0.3656\n",
            "Epoch: 80/2000, Train loss: 0.3272, Test Loss: 0.3468\n",
            "Epoch: 90/2000, Train loss: 0.3110, Test Loss: 0.3301\n",
            "Epoch: 100/2000, Train loss: 0.2966, Test Loss: 0.3151\n",
            "Epoch: 110/2000, Train loss: 0.2836, Test Loss: 0.3015\n",
            "Epoch: 120/2000, Train loss: 0.2719, Test Loss: 0.2892\n",
            "Epoch: 130/2000, Train loss: 0.2613, Test Loss: 0.2779\n",
            "Epoch: 140/2000, Train loss: 0.2516, Test Loss: 0.2676\n",
            "Epoch: 150/2000, Train loss: 0.2428, Test Loss: 0.2581\n",
            "Epoch: 160/2000, Train loss: 0.2346, Test Loss: 0.2493\n",
            "Epoch: 170/2000, Train loss: 0.2271, Test Loss: 0.2411\n",
            "Epoch: 180/2000, Train loss: 0.2202, Test Loss: 0.2336\n",
            "Epoch: 190/2000, Train loss: 0.2138, Test Loss: 0.2265\n",
            "Epoch: 200/2000, Train loss: 0.2078, Test Loss: 0.2200\n",
            "Epoch: 210/2000, Train loss: 0.2022, Test Loss: 0.2139\n",
            "Epoch: 220/2000, Train loss: 0.1970, Test Loss: 0.2081\n",
            "Epoch: 230/2000, Train loss: 0.1922, Test Loss: 0.2028\n",
            "Epoch: 240/2000, Train loss: 0.1876, Test Loss: 0.1977\n",
            "Epoch: 250/2000, Train loss: 0.1833, Test Loss: 0.1930\n",
            "Epoch: 260/2000, Train loss: 0.1793, Test Loss: 0.1885\n",
            "Epoch: 270/2000, Train loss: 0.1755, Test Loss: 0.1843\n",
            "Epoch: 280/2000, Train loss: 0.1720, Test Loss: 0.1804\n",
            "Epoch: 290/2000, Train loss: 0.1686, Test Loss: 0.1766\n",
            "Epoch: 300/2000, Train loss: 0.1654, Test Loss: 0.1731\n",
            "Epoch: 310/2000, Train loss: 0.1624, Test Loss: 0.1697\n",
            "Epoch: 320/2000, Train loss: 0.1595, Test Loss: 0.1666\n",
            "Epoch: 330/2000, Train loss: 0.1568, Test Loss: 0.1635\n",
            "Epoch: 340/2000, Train loss: 0.1542, Test Loss: 0.1607\n",
            "Epoch: 350/2000, Train loss: 0.1518, Test Loss: 0.1579\n",
            "Epoch: 360/2000, Train loss: 0.1494, Test Loss: 0.1553\n",
            "Epoch: 370/2000, Train loss: 0.1472, Test Loss: 0.1529\n",
            "Epoch: 380/2000, Train loss: 0.1450, Test Loss: 0.1505\n",
            "Epoch: 390/2000, Train loss: 0.1430, Test Loss: 0.1482\n",
            "Epoch: 400/2000, Train loss: 0.1410, Test Loss: 0.1461\n",
            "Epoch: 410/2000, Train loss: 0.1391, Test Loss: 0.1440\n",
            "Epoch: 420/2000, Train loss: 0.1373, Test Loss: 0.1420\n",
            "Epoch: 430/2000, Train loss: 0.1356, Test Loss: 0.1401\n",
            "Epoch: 440/2000, Train loss: 0.1339, Test Loss: 0.1383\n",
            "Epoch: 450/2000, Train loss: 0.1323, Test Loss: 0.1365\n",
            "Epoch: 460/2000, Train loss: 0.1308, Test Loss: 0.1348\n",
            "Epoch: 470/2000, Train loss: 0.1293, Test Loss: 0.1332\n",
            "Epoch: 480/2000, Train loss: 0.1279, Test Loss: 0.1316\n",
            "Epoch: 490/2000, Train loss: 0.1265, Test Loss: 0.1301\n",
            "Epoch: 500/2000, Train loss: 0.1252, Test Loss: 0.1286\n",
            "Epoch: 510/2000, Train loss: 0.1239, Test Loss: 0.1272\n",
            "Epoch: 520/2000, Train loss: 0.1226, Test Loss: 0.1258\n",
            "Epoch: 530/2000, Train loss: 0.1214, Test Loss: 0.1245\n",
            "Epoch: 540/2000, Train loss: 0.1203, Test Loss: 0.1232\n",
            "Epoch: 550/2000, Train loss: 0.1191, Test Loss: 0.1220\n",
            "Epoch: 560/2000, Train loss: 0.1180, Test Loss: 0.1208\n",
            "Epoch: 570/2000, Train loss: 0.1170, Test Loss: 0.1196\n",
            "Epoch: 580/2000, Train loss: 0.1160, Test Loss: 0.1185\n",
            "Epoch: 590/2000, Train loss: 0.1150, Test Loss: 0.1174\n",
            "Epoch: 600/2000, Train loss: 0.1140, Test Loss: 0.1163\n",
            "Epoch: 610/2000, Train loss: 0.1130, Test Loss: 0.1153\n",
            "Epoch: 620/2000, Train loss: 0.1121, Test Loss: 0.1143\n",
            "Epoch: 630/2000, Train loss: 0.1112, Test Loss: 0.1133\n",
            "Epoch: 640/2000, Train loss: 0.1104, Test Loss: 0.1124\n",
            "Epoch: 650/2000, Train loss: 0.1095, Test Loss: 0.1115\n",
            "Epoch: 660/2000, Train loss: 0.1087, Test Loss: 0.1106\n",
            "Epoch: 670/2000, Train loss: 0.1079, Test Loss: 0.1097\n",
            "Epoch: 680/2000, Train loss: 0.1071, Test Loss: 0.1089\n",
            "Epoch: 690/2000, Train loss: 0.1064, Test Loss: 0.1080\n",
            "Epoch: 700/2000, Train loss: 0.1056, Test Loss: 0.1072\n",
            "Epoch: 710/2000, Train loss: 0.1049, Test Loss: 0.1064\n",
            "Epoch: 720/2000, Train loss: 0.1042, Test Loss: 0.1057\n",
            "Epoch: 730/2000, Train loss: 0.1035, Test Loss: 0.1049\n",
            "Epoch: 740/2000, Train loss: 0.1028, Test Loss: 0.1042\n",
            "Epoch: 750/2000, Train loss: 0.1022, Test Loss: 0.1035\n",
            "Epoch: 760/2000, Train loss: 0.1016, Test Loss: 0.1028\n",
            "Epoch: 770/2000, Train loss: 0.1009, Test Loss: 0.1021\n",
            "Epoch: 780/2000, Train loss: 0.1003, Test Loss: 0.1014\n",
            "Epoch: 790/2000, Train loss: 0.0997, Test Loss: 0.1008\n",
            "Epoch: 800/2000, Train loss: 0.0991, Test Loss: 0.1001\n",
            "Epoch: 810/2000, Train loss: 0.0985, Test Loss: 0.0995\n",
            "Epoch: 820/2000, Train loss: 0.0980, Test Loss: 0.0989\n",
            "Epoch: 830/2000, Train loss: 0.0974, Test Loss: 0.0983\n",
            "Epoch: 840/2000, Train loss: 0.0969, Test Loss: 0.0977\n",
            "Epoch: 850/2000, Train loss: 0.0964, Test Loss: 0.0971\n",
            "Epoch: 860/2000, Train loss: 0.0958, Test Loss: 0.0966\n",
            "Epoch: 870/2000, Train loss: 0.0953, Test Loss: 0.0960\n",
            "Epoch: 880/2000, Train loss: 0.0948, Test Loss: 0.0955\n",
            "Epoch: 890/2000, Train loss: 0.0944, Test Loss: 0.0949\n",
            "Epoch: 900/2000, Train loss: 0.0939, Test Loss: 0.0944\n",
            "Epoch: 910/2000, Train loss: 0.0934, Test Loss: 0.0939\n",
            "Epoch: 920/2000, Train loss: 0.0929, Test Loss: 0.0934\n",
            "Epoch: 930/2000, Train loss: 0.0925, Test Loss: 0.0929\n",
            "Epoch: 940/2000, Train loss: 0.0920, Test Loss: 0.0924\n",
            "Epoch: 950/2000, Train loss: 0.0916, Test Loss: 0.0920\n",
            "Epoch: 960/2000, Train loss: 0.0912, Test Loss: 0.0915\n",
            "Epoch: 970/2000, Train loss: 0.0908, Test Loss: 0.0911\n",
            "Epoch: 980/2000, Train loss: 0.0903, Test Loss: 0.0906\n",
            "Epoch: 990/2000, Train loss: 0.0899, Test Loss: 0.0902\n",
            "Epoch: 1000/2000, Train loss: 0.0895, Test Loss: 0.0897\n",
            "Epoch: 1010/2000, Train loss: 0.0892, Test Loss: 0.0893\n",
            "Epoch: 1020/2000, Train loss: 0.0888, Test Loss: 0.0889\n",
            "Epoch: 1030/2000, Train loss: 0.0884, Test Loss: 0.0885\n",
            "Epoch: 1040/2000, Train loss: 0.0880, Test Loss: 0.0881\n",
            "Epoch: 1050/2000, Train loss: 0.0876, Test Loss: 0.0877\n",
            "Epoch: 1060/2000, Train loss: 0.0873, Test Loss: 0.0873\n",
            "Epoch: 1070/2000, Train loss: 0.0869, Test Loss: 0.0869\n",
            "Epoch: 1080/2000, Train loss: 0.0866, Test Loss: 0.0865\n",
            "Epoch: 1090/2000, Train loss: 0.0862, Test Loss: 0.0862\n",
            "Epoch: 1100/2000, Train loss: 0.0859, Test Loss: 0.0858\n",
            "Epoch: 1110/2000, Train loss: 0.0856, Test Loss: 0.0854\n",
            "Epoch: 1120/2000, Train loss: 0.0852, Test Loss: 0.0851\n",
            "Epoch: 1130/2000, Train loss: 0.0849, Test Loss: 0.0848\n",
            "Epoch: 1140/2000, Train loss: 0.0846, Test Loss: 0.0844\n",
            "Epoch: 1150/2000, Train loss: 0.0843, Test Loss: 0.0841\n",
            "Epoch: 1160/2000, Train loss: 0.0840, Test Loss: 0.0837\n",
            "Epoch: 1170/2000, Train loss: 0.0837, Test Loss: 0.0834\n",
            "Epoch: 1180/2000, Train loss: 0.0834, Test Loss: 0.0831\n",
            "Epoch: 1190/2000, Train loss: 0.0831, Test Loss: 0.0828\n",
            "Epoch: 1200/2000, Train loss: 0.0828, Test Loss: 0.0825\n",
            "Epoch: 1210/2000, Train loss: 0.0825, Test Loss: 0.0822\n",
            "Epoch: 1220/2000, Train loss: 0.0822, Test Loss: 0.0819\n",
            "Epoch: 1230/2000, Train loss: 0.0819, Test Loss: 0.0816\n",
            "Epoch: 1240/2000, Train loss: 0.0816, Test Loss: 0.0813\n",
            "Epoch: 1250/2000, Train loss: 0.0814, Test Loss: 0.0810\n",
            "Epoch: 1260/2000, Train loss: 0.0811, Test Loss: 0.0807\n",
            "Epoch: 1270/2000, Train loss: 0.0808, Test Loss: 0.0804\n",
            "Epoch: 1280/2000, Train loss: 0.0806, Test Loss: 0.0801\n",
            "Epoch: 1290/2000, Train loss: 0.0803, Test Loss: 0.0799\n",
            "Epoch: 1300/2000, Train loss: 0.0800, Test Loss: 0.0796\n",
            "Epoch: 1310/2000, Train loss: 0.0798, Test Loss: 0.0793\n",
            "Epoch: 1320/2000, Train loss: 0.0795, Test Loss: 0.0791\n",
            "Epoch: 1330/2000, Train loss: 0.0793, Test Loss: 0.0788\n",
            "Epoch: 1340/2000, Train loss: 0.0791, Test Loss: 0.0786\n",
            "Epoch: 1350/2000, Train loss: 0.0788, Test Loss: 0.0783\n",
            "Epoch: 1360/2000, Train loss: 0.0786, Test Loss: 0.0781\n",
            "Epoch: 1370/2000, Train loss: 0.0783, Test Loss: 0.0778\n",
            "Epoch: 1380/2000, Train loss: 0.0781, Test Loss: 0.0776\n",
            "Epoch: 1390/2000, Train loss: 0.0779, Test Loss: 0.0773\n",
            "Epoch: 1400/2000, Train loss: 0.0777, Test Loss: 0.0771\n",
            "Epoch: 1410/2000, Train loss: 0.0774, Test Loss: 0.0769\n",
            "Epoch: 1420/2000, Train loss: 0.0772, Test Loss: 0.0766\n",
            "Epoch: 1430/2000, Train loss: 0.0770, Test Loss: 0.0764\n",
            "Epoch: 1440/2000, Train loss: 0.0768, Test Loss: 0.0762\n",
            "Epoch: 1450/2000, Train loss: 0.0766, Test Loss: 0.0760\n",
            "Epoch: 1460/2000, Train loss: 0.0764, Test Loss: 0.0758\n",
            "Epoch: 1470/2000, Train loss: 0.0761, Test Loss: 0.0755\n",
            "Epoch: 1480/2000, Train loss: 0.0759, Test Loss: 0.0753\n",
            "Epoch: 1490/2000, Train loss: 0.0757, Test Loss: 0.0751\n",
            "Epoch: 1500/2000, Train loss: 0.0755, Test Loss: 0.0749\n",
            "Epoch: 1510/2000, Train loss: 0.0753, Test Loss: 0.0747\n",
            "Epoch: 1520/2000, Train loss: 0.0751, Test Loss: 0.0745\n",
            "Epoch: 1530/2000, Train loss: 0.0749, Test Loss: 0.0743\n",
            "Epoch: 1540/2000, Train loss: 0.0748, Test Loss: 0.0741\n",
            "Epoch: 1550/2000, Train loss: 0.0746, Test Loss: 0.0739\n",
            "Epoch: 1560/2000, Train loss: 0.0744, Test Loss: 0.0738\n",
            "Epoch: 1570/2000, Train loss: 0.0742, Test Loss: 0.0736\n",
            "Epoch: 1580/2000, Train loss: 0.0740, Test Loss: 0.0734\n",
            "Epoch: 1590/2000, Train loss: 0.0738, Test Loss: 0.0732\n",
            "Epoch: 1600/2000, Train loss: 0.0736, Test Loss: 0.0730\n",
            "Epoch: 1610/2000, Train loss: 0.0735, Test Loss: 0.0728\n",
            "Epoch: 1620/2000, Train loss: 0.0733, Test Loss: 0.0727\n",
            "Epoch: 1630/2000, Train loss: 0.0731, Test Loss: 0.0725\n",
            "Epoch: 1640/2000, Train loss: 0.0729, Test Loss: 0.0723\n",
            "Epoch: 1650/2000, Train loss: 0.0728, Test Loss: 0.0722\n",
            "Epoch: 1660/2000, Train loss: 0.0726, Test Loss: 0.0720\n",
            "Epoch: 1670/2000, Train loss: 0.0724, Test Loss: 0.0718\n",
            "Epoch: 1680/2000, Train loss: 0.0723, Test Loss: 0.0717\n",
            "Epoch: 1690/2000, Train loss: 0.0721, Test Loss: 0.0715\n",
            "Epoch: 1700/2000, Train loss: 0.0719, Test Loss: 0.0714\n",
            "Epoch: 1710/2000, Train loss: 0.0718, Test Loss: 0.0712\n",
            "Epoch: 1720/2000, Train loss: 0.0716, Test Loss: 0.0710\n",
            "Epoch: 1730/2000, Train loss: 0.0714, Test Loss: 0.0709\n",
            "Epoch: 1740/2000, Train loss: 0.0713, Test Loss: 0.0707\n",
            "Epoch: 1750/2000, Train loss: 0.0711, Test Loss: 0.0706\n",
            "Epoch: 1760/2000, Train loss: 0.0710, Test Loss: 0.0705\n",
            "Epoch: 1770/2000, Train loss: 0.0708, Test Loss: 0.0703\n",
            "Epoch: 1780/2000, Train loss: 0.0707, Test Loss: 0.0702\n",
            "Epoch: 1790/2000, Train loss: 0.0705, Test Loss: 0.0700\n",
            "Epoch: 1800/2000, Train loss: 0.0704, Test Loss: 0.0699\n",
            "Epoch: 1810/2000, Train loss: 0.0702, Test Loss: 0.0698\n",
            "Epoch: 1820/2000, Train loss: 0.0701, Test Loss: 0.0696\n",
            "Epoch: 1830/2000, Train loss: 0.0699, Test Loss: 0.0695\n",
            "Epoch: 1840/2000, Train loss: 0.0698, Test Loss: 0.0694\n",
            "Epoch: 1850/2000, Train loss: 0.0696, Test Loss: 0.0692\n",
            "Epoch: 1860/2000, Train loss: 0.0695, Test Loss: 0.0691\n",
            "Epoch: 1870/2000, Train loss: 0.0694, Test Loss: 0.0690\n",
            "Epoch: 1880/2000, Train loss: 0.0692, Test Loss: 0.0689\n",
            "Epoch: 1890/2000, Train loss: 0.0691, Test Loss: 0.0688\n",
            "Epoch: 1900/2000, Train loss: 0.0689, Test Loss: 0.0686\n",
            "Epoch: 1910/2000, Train loss: 0.0688, Test Loss: 0.0685\n",
            "Epoch: 1920/2000, Train loss: 0.0687, Test Loss: 0.0684\n",
            "Epoch: 1930/2000, Train loss: 0.0685, Test Loss: 0.0683\n",
            "Epoch: 1940/2000, Train loss: 0.0684, Test Loss: 0.0682\n",
            "Epoch: 1950/2000, Train loss: 0.0683, Test Loss: 0.0681\n",
            "Epoch: 1960/2000, Train loss: 0.0681, Test Loss: 0.0680\n",
            "Epoch: 1970/2000, Train loss: 0.0680, Test Loss: 0.0679\n",
            "Epoch: 1980/2000, Train loss: 0.0679, Test Loss: 0.0677\n",
            "Epoch: 1990/2000, Train loss: 0.0678, Test Loss: 0.0676\n",
            "Epoch: 2000/2000, Train loss: 0.0676, Test Loss: 0.0675\n"
          ]
        }
      ]
    },
    {
      "cell_type": "code",
      "source": [
        "plt.plot(train_losses, label='train loss')\n",
        "plt.plot(test_losses, label='test loss')\n",
        "plt.legend()\n",
        "plt.show()"
      ],
      "metadata": {
        "colab": {
          "base_uri": "https://localhost:8080/",
          "height": 265
        },
        "id": "Bl4h2s1XJKpC",
        "outputId": "ff424fd4-0d73-4904-805d-8003906b34da"
      },
      "execution_count": 72,
      "outputs": [
        {
          "output_type": "display_data",
          "data": {
            "text/plain": [
              "<Figure size 432x288 with 1 Axes>"
            ],
            "image/png": "[encoded data removed]"
          },
          "metadata": {
            "needs_background": "light"
          }
        }
      ]
    },
    {
      "cell_type": "code",
      "source": [
        "# get accuracy\n",
        "with torch.no_grad():\n",
        "  p_train = model(train_inputs)\n",
        "  p_train = np.round(p_train.numpy())\n",
        "  train_acc = np.mean(train_targets.numpy() == p_train)\n",
        "\n",
        "  p_test = model(test_inputs)\n",
        "  p_test = np.round(p_test.numpy())\n",
        "  test_acc = np.mean(test_targets.numpy() == p_test)\n",
        "\n",
        "print(f\"Train acc: {train_acc:.4f}, Test acc: {test_acc:.4f}\")"
      ],
      "metadata": {
        "colab": {
          "base_uri": "https://localhost:8080/"
        },
        "id": "tJuhrzZlJTJk",
        "outputId": "5c517889-c826-4161-857a-2a179ecaf8d1"
      },
      "execution_count": 89,
      "outputs": [
        {
          "output_type": "stream",
          "name": "stdout",
          "text": [
            "Train acc: 0.9869, Test acc: 0.9787\n"
          ]
        }
      ]
    },
    {
      "cell_type": "code",
      "source": [
        "p_train = model(train_inputs)\n",
        "print(type(p_train))"
      ],
      "metadata": {
        "colab": {
          "base_uri": "https://localhost:8080/"
        },
        "id": "E8-dUUhVOoSg",
        "outputId": "b791ce23-45d9-4bde-9b8b-8443e1d1a647"
      },
      "execution_count": 78,
      "outputs": [
        {
          "output_type": "stream",
          "name": "stdout",
          "text": [
            "<class 'torch.Tensor'>\n"
          ]
        }
      ]
    },
    {
      "cell_type": "code",
      "source": [
        ""
      ],
      "metadata": {
        "id": "PSw227WXOTBR"
      },
      "execution_count": null,
      "outputs": []
    }
  ]
}