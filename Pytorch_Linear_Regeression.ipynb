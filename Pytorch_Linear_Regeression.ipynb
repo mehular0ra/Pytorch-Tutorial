{
  "nbformat": 4,
  "nbformat_minor": 0,
  "metadata": {
    "colab": {
      "name": "Pytorch Linear Regeression.ipynb",
      "provenance": [],
      "collapsed_sections": [],
      "authorship_tag": "ABX9TyPj3ol9pX7o5KphZjG0+nUc",
      "include_colab_link": true
    },
    "kernelspec": {
      "name": "python3",
      "display_name": "Python 3"
    },
    "language_info": {
      "name": "python"
    }
  },
  "cells": [
    {
      "cell_type": "markdown",
      "metadata": {
        "id": "view-in-github",
        "colab_type": "text"
      },
      "source": [
        "<a href=\"https://colab.research.google.com/github/mehular0ra/Pytorch-Tutorial/blob/main/Pytorch_Linear_Regeression.ipynb\" target=\"_parent\"><img src=\"https://colab.research.google.com/assets/colab-badge.svg\" alt=\"Open In Colab\"/></a>"
      ]
    },
    {
      "cell_type": "markdown",
      "source": [
        "### Pytorch Linear Regression model is tested on the synthetic data created using the function 0.5*X + 1, and the a standard normal noise is added to every points in the data. Total 20 data points are taken. "
      ],
      "metadata": {
        "id": "RbCbz0tVipAM"
      }
    },
    {
      "cell_type": "code",
      "execution_count": 1,
      "metadata": {
        "id": "IZ0PiCyVfPCd"
      },
      "outputs": [],
      "source": [
        "import torch\n",
        "import torch.nn as nn\n",
        "import numpy as np\n",
        "import matplotlib.pyplot as plt"
      ]
    },
    {
      "cell_type": "code",
      "source": [
        "# we want 20 random numbers\n",
        "N = 20\n",
        "\n",
        "# generate 20 random numbers\n",
        "X = np.random.rand(N)*10 - 5\n",
        "\n",
        "# find the Y values\n",
        "Y = 0.5*X + 1 + np.random.rand(N)"
      ],
      "metadata": {
        "id": "1FoOY3nJfjUj"
      },
      "execution_count": 2,
      "outputs": []
    },
    {
      "cell_type": "code",
      "source": [
        "# plot the data\n",
        "plt.scatter(X, Y);"
      ],
      "metadata": {
        "colab": {
          "base_uri": "https://localhost:8080/",
          "height": 265
        },
        "id": "zRN3g3zvgMK1",
        "outputId": "39248bc6-9cb4-416a-9390-68966fc6d46d"
      },
      "execution_count": 3,
      "outputs": [
        {
          "output_type": "display_data",
          "data": {
            "text/plain": [
              "<Figure size 432x288 with 1 Axes>"
            ],
            "image/png": "[encoded data removed]"
          },
          "metadata": {
            "needs_background": "light"
          }
        }
      ]
    },
    {
      "cell_type": "code",
      "source": [
        "# create Linear Regression Model\n",
        "model = nn.Linear(1, 1)"
      ],
      "metadata": {
        "id": "dsh3zNiWgPQ4"
      },
      "execution_count": 4,
      "outputs": []
    },
    {
      "cell_type": "code",
      "source": [
        "# loss and optimizer\n",
        "criterion = nn.MSELoss()\n",
        "optimizer = torch.optim.SGD(model.parameters(), lr=0.1)"
      ],
      "metadata": {
        "id": "3LbwfJFNjOqE"
      },
      "execution_count": 5,
      "outputs": []
    },
    {
      "cell_type": "code",
      "source": [
        "# the data should be in shape while using Pytorch\n",
        "inputs = X.reshape(N, 1)\n",
        "targets = Y.reshape(N, 1)\n",
        "\n",
        "# Pytorch uses Float32 by default\n",
        "# Numpy uses float64 by default\n",
        "inputs = torch.from_numpy(inputs.astype(np.float32))\n",
        "targets = torch.from_numpy(targets.astype(np.float32))"
      ],
      "metadata": {
        "id": "NqtWT7cpjrQW"
      },
      "execution_count": 6,
      "outputs": []
    },
    {
      "cell_type": "code",
      "source": [
        "# number of epochs\n",
        "n_epochs = 50\n",
        "\n",
        "# list of losses\n",
        "losses = []\n",
        "for it in range(n_epochs):\n",
        "    # reset the optimizer gradients\n",
        "    optimizer.zero_grad()\n",
        "\n",
        "    # predict the outputs (Forward Pass)\n",
        "    outputs = model(inputs)\n",
        "    loss = criterion(outputs, targets)\n",
        "\n",
        "    # append the loss in losses list\n",
        "    # using .item() to convert from pytorch to normal python\n",
        "    # not using .numpy because it is not array\n",
        "    losses.append(loss.item())\n",
        "\n",
        "    # do backprop (Backward Pass)\n",
        "    loss.backward()\n",
        "\n",
        "    # go to next step\n",
        "    optimizer.step()\n",
        "\n",
        "    # print the step for the log\n",
        "    print(f'Epoch: {it+1}/{n_epochs}, : Loss: {loss.item()}')"
      ],
      "metadata": {
        "colab": {
          "base_uri": "https://localhost:8080/"
        },
        "id": "UU1MLgNrkZ57",
        "outputId": "6ed981ab-4655-4786-9ca8-ab515eb9c339"
      },
      "execution_count": 7,
      "outputs": [
        {
          "output_type": "stream",
          "name": "stdout",
          "text": [
            "Epoch: 1/50, : Loss: 2.4799811840057373\n",
            "Epoch: 2/50, : Loss: 1.7038509845733643\n",
            "Epoch: 3/50, : Loss: 1.1860215663909912\n",
            "Epoch: 4/50, : Loss: 0.8404762148857117\n",
            "Epoch: 5/50, : Loss: 0.609843909740448\n",
            "Epoch: 6/50, : Loss: 0.455858051776886\n",
            "Epoch: 7/50, : Loss: 0.35299569368362427\n",
            "Epoch: 8/50, : Loss: 0.2842332720756531\n",
            "Epoch: 9/50, : Loss: 0.23821628093719482\n",
            "Epoch: 10/50, : Loss: 0.2073712795972824\n",
            "Epoch: 11/50, : Loss: 0.18664705753326416\n",
            "Epoch: 12/50, : Loss: 0.17267438769340515\n",
            "Epoch: 13/50, : Loss: 0.1632060706615448\n",
            "Epoch: 14/50, : Loss: 0.15674325823783875\n",
            "Epoch: 15/50, : Loss: 0.1522863209247589\n",
            "Epoch: 16/50, : Loss: 0.14916826784610748\n",
            "Epoch: 17/50, : Loss: 0.14694438874721527\n",
            "Epoch: 18/50, : Loss: 0.145317941904068\n",
            "Epoch: 19/50, : Loss: 0.14409124851226807\n",
            "Epoch: 20/50, : Loss: 0.14313210546970367\n",
            "Epoch: 21/50, : Loss: 0.14235256612300873\n",
            "Epoch: 22/50, : Loss: 0.14169396460056305\n",
            "Epoch: 23/50, : Loss: 0.14111699163913727\n",
            "Epoch: 24/50, : Loss: 0.14059564471244812\n",
            "Epoch: 25/50, : Loss: 0.14011237025260925\n",
            "Epoch: 26/50, : Loss: 0.13965556025505066\n",
            "Epoch: 27/50, : Loss: 0.13921740651130676\n",
            "Epoch: 28/50, : Loss: 0.13879266381263733\n",
            "Epoch: 29/50, : Loss: 0.1383780688047409\n",
            "Epoch: 30/50, : Loss: 0.13797113299369812\n",
            "Epoch: 31/50, : Loss: 0.13757029175758362\n",
            "Epoch: 32/50, : Loss: 0.137174591422081\n",
            "Epoch: 33/50, : Loss: 0.13678327202796936\n",
            "Epoch: 34/50, : Loss: 0.13639584183692932\n",
            "Epoch: 35/50, : Loss: 0.1360119730234146\n",
            "Epoch: 36/50, : Loss: 0.1356314867734909\n",
            "Epoch: 37/50, : Loss: 0.1352541297674179\n",
            "Epoch: 38/50, : Loss: 0.134879931807518\n",
            "Epoch: 39/50, : Loss: 0.13450872898101807\n",
            "Epoch: 40/50, : Loss: 0.13414044678211212\n",
            "Epoch: 41/50, : Loss: 0.13377505540847778\n",
            "Epoch: 42/50, : Loss: 0.13341248035430908\n",
            "Epoch: 43/50, : Loss: 0.1330527514219284\n",
            "Epoch: 44/50, : Loss: 0.13269582390785217\n",
            "Epoch: 45/50, : Loss: 0.1323416531085968\n",
            "Epoch: 46/50, : Loss: 0.1319902241230011\n",
            "Epoch: 47/50, : Loss: 0.1316414624452591\n",
            "Epoch: 48/50, : Loss: 0.13129544258117676\n",
            "Epoch: 49/50, : Loss: 0.13095203042030334\n",
            "Epoch: 50/50, : Loss: 0.13061127066612244\n"
          ]
        }
      ]
    },
    {
      "cell_type": "code",
      "source": [
        "# plot the loss per iteration\n",
        "plt.plot(losses);"
      ],
      "metadata": {
        "colab": {
          "base_uri": "https://localhost:8080/",
          "height": 265
        },
        "id": "VMePNqcomR1O",
        "outputId": "e4ed04ec-1302-4694-e9f7-07012af6aa97"
      },
      "execution_count": 8,
      "outputs": [
        {
          "output_type": "display_data",
          "data": {
            "text/plain": [
              "<Figure size 432x288 with 1 Axes>"
            ],
            "image/png": "[encoded data removed]"
          },
          "metadata": {
            "needs_background": "light"
          }
        }
      ]
    },
    {
      "cell_type": "code",
      "source": [
        "# plot the graph\n",
        "predicted = model(inputs).detach().numpy()\n",
        "# print(predicted)\n",
        "\n",
        "plt.scatter(X, Y, label= 'Original Data'); \n",
        "plt.plot(X, predicted, label='Fitted Line');\n",
        "plt.legend()\n",
        "plt.show()"
      ],
      "metadata": {
        "colab": {
          "base_uri": "https://localhost:8080/",
          "height": 265
        },
        "id": "s1kinibGnruP",
        "outputId": "99d801aa-c12d-4b11-df6d-37f6608d646b"
      },
      "execution_count": 9,
      "outputs": [
        {
          "output_type": "display_data",
          "data": {
            "text/plain": [
              "<Figure size 432x288 with 1 Axes>"
            ],
            "image/png": "[encoded data removed]"
          },
          "metadata": {
            "needs_background": "light"
          }
        }
      ]
    },
    {
      "cell_type": "code",
      "source": [
        "predicted = model(inputs).detach().numpy()\n",
        "print(predicted)"
      ],
      "metadata": {
        "colab": {
          "base_uri": "https://localhost:8080/"
        },
        "id": "sS_VSoAJoz97",
        "outputId": "bf4936b1-aacf-41f7-aa57-a89387772349"
      },
      "execution_count": 10,
      "outputs": [
        {
          "output_type": "stream",
          "name": "stdout",
          "text": [
            "[[ 3.21903   ]\n",
            " [ 1.1225207 ]\n",
            " [ 1.1240704 ]\n",
            " [ 0.8593217 ]\n",
            " [ 0.08847427]\n",
            " [ 3.2837696 ]\n",
            " [ 2.3344145 ]\n",
            " [ 3.167397  ]\n",
            " [ 0.9764511 ]\n",
            " [ 2.7684116 ]\n",
            " [ 3.069351  ]\n",
            " [ 3.4663692 ]\n",
            " [ 1.4986328 ]\n",
            " [ 3.3095343 ]\n",
            " [ 0.59233105]\n",
            " [ 2.1811554 ]\n",
            " [-0.01935673]\n",
            " [-0.46443546]\n",
            " [ 1.3712729 ]\n",
            " [ 2.87599   ]]\n"
          ]
        }
      ]
    },
    {
      "cell_type": "code",
      "source": [
        "# To test the efficacy of the model\n",
        "w = model.weight.data.numpy()\n",
        "b = model.bias.data.numpy()\n",
        "print(w, b)"
      ],
      "metadata": {
        "colab": {
          "base_uri": "https://localhost:8080/"
        },
        "id": "PkNex0-ipISg",
        "outputId": "5bb10ccc-101f-41ba-9a55-6719e3dcca19"
      },
      "execution_count": 11,
      "outputs": [
        {
          "output_type": "stream",
          "name": "stdout",
          "text": [
            "[[0.4104584]] [1.4858701]\n"
          ]
        }
      ]
    },
    {
      "cell_type": "markdown",
      "source": [
        "### The values of weights we get at the end is comparable to the weights we choose when we made synthetic data. Hence we can check the efficacy of the model we make we stiching it on the synthetic data. "
      ],
      "metadata": {
        "id": "jiGswdEsprum"
      }
    },
    {
      "cell_type": "code",
      "source": [
        ""
      ],
      "metadata": {
        "id": "XkDw4xFDpknF"
      },
      "execution_count": 11,
      "outputs": []
    }
  ]
}