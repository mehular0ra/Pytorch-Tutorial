{
  "nbformat": 4,
  "nbformat_minor": 0,
  "metadata": {
    "colab": {
      "name": "Pytorch Linear Regression (Moore's Law).ipynb",
      "provenance": [],
      "authorship_tag": "ABX9TyPsr4MycqKM2P2cKHHvI8XE",
      "include_colab_link": true
    },
    "kernelspec": {
      "name": "python3",
      "display_name": "Python 3"
    },
    "language_info": {
      "name": "python"
    }
  },
  "cells": [
    {
      "cell_type": "markdown",
      "metadata": {
        "id": "view-in-github",
        "colab_type": "text"
      },
      "source": [
        "<a href=\"https://colab.research.google.com/github/mehular0ra/Pytorch-Tutorial/blob/main/Pytorch_Linear_Regression_(Moore's_Law).ipynb\" target=\"_parent\"><img src=\"https://colab.research.google.com/assets/colab-badge.svg\" alt=\"Open In Colab\"/></a>"
      ]
    },
    {
      "cell_type": "code",
      "execution_count": null,
      "metadata": {
        "id": "k0nRSm812Y2B"
      },
      "outputs": [],
      "source": [
        "import torch\n",
        "import torch.nn as nn\n",
        "import numpy as np\n",
        "import pandas as pd\n",
        "import matplotlib.pyplot as plt"
      ]
    },
    {
      "cell_type": "code",
      "source": [
        "!wget -nc https://raw.githubusercontent.com/lazyprogrammer/machine_learning_examples/master/tf2.0/moore.csv"
      ],
      "metadata": {
        "colab": {
          "base_uri": "https://localhost:8080/"
        },
        "id": "NnevlywB3jK-",
        "outputId": "7d1e359d-87d7-4420-9a74-5b03d7c229c9"
      },
      "execution_count": null,
      "outputs": [
        {
          "output_type": "stream",
          "name": "stdout",
          "text": [
            "--2022-03-19 11:10:11--  https://raw.githubusercontent.com/lazyprogrammer/machine_learning_examples/master/tf2.0/moore.csv\n",
            "Resolving raw.githubusercontent.com (raw.githubusercontent.com)... 185.199.108.133, 185.199.109.133, 185.199.110.133, ...\n",
            "Connecting to raw.githubusercontent.com (raw.githubusercontent.com)|185.199.108.133|:443... connected.\n",
            "HTTP request sent, awaiting response... 200 OK\n",
            "Length: 2302 (2.2K) [text/plain]\n",
            "Saving to: ‘moore.csv’\n",
            "\n",
            "\rmoore.csv             0%[                    ]       0  --.-KB/s               \rmoore.csv           100%[===================>]   2.25K  --.-KB/s    in 0s      \n",
            "\n",
            "2022-03-19 11:10:11 (48.8 MB/s) - ‘moore.csv’ saved [2302/2302]\n",
            "\n"
          ]
        }
      ]
    },
    {
      "cell_type": "code",
      "source": [
        "# load the data\n",
        "data = pd.read_csv('moore.csv', header=None).values\n",
        "X = data[:, 0].reshape(-1, 1)\n",
        "Y = data[:, 1].reshape(-1, 1)"
      ],
      "metadata": {
        "colab": {
          "base_uri": "https://localhost:8080/"
        },
        "id": "ucZWWyYx3xAk",
        "outputId": "49566b40-ec6e-4f97-f673-a8894deeba7d"
      },
      "execution_count": null,
      "outputs": [
        {
          "output_type": "stream",
          "name": "stdout",
          "text": [
            "(162, 1) (162, 1)\n"
          ]
        }
      ]
    },
    {
      "cell_type": "code",
      "source": [
        "# plot the data: it is exponential!\n",
        "plt.scatter(X, Y);"
      ],
      "metadata": {
        "colab": {
          "base_uri": "https://localhost:8080/",
          "height": 276
        },
        "id": "lKUIAeCM4iW2",
        "outputId": "a4b20ae5-a630-4b40-d222-93852fa26987"
      },
      "execution_count": null,
      "outputs": [
        {
          "output_type": "display_data",
          "data": {
            "text/plain": [
              "<Figure size 432x288 with 1 Axes>"
            ],
            "image/png": "[encoded data removed]"
          },
          "metadata": {
            "needs_background": "light"
          }
        }
      ]
    },
    {
      "cell_type": "code",
      "source": [
        "# to make a linear model, take log\n",
        "Y = np.log(Y)\n",
        "plt.scatter(X, Y);"
      ],
      "metadata": {
        "colab": {
          "base_uri": "https://localhost:8080/",
          "height": 265
        },
        "id": "JVjGWHIx38aB",
        "outputId": "268cf05c-dbe6-46c9-bfac-ec57f5632737"
      },
      "execution_count": null,
      "outputs": [
        {
          "output_type": "display_data",
          "data": {
            "text/plain": [
              "<Figure size 432x288 with 1 Axes>"
            ],
            "image/png": "[encoded data removed]"
          },
          "metadata": {
            "needs_background": "light"
          }
        }
      ]
    },
    {
      "cell_type": "code",
      "source": [
        "# normalize the values\n",
        "mx = X.mean()\n",
        "sx = X.std()\n",
        "my = Y.mean()\n",
        "sy = Y.std()\n",
        "X = (X - mx)/sx\n",
        "Y = (Y - my)/sy"
      ],
      "metadata": {
        "id": "H3TOdtIw5YbI"
      },
      "execution_count": null,
      "outputs": []
    },
    {
      "cell_type": "code",
      "source": [
        "plt.scatter(X, Y);"
      ],
      "metadata": {
        "colab": {
          "base_uri": "https://localhost:8080/",
          "height": 265
        },
        "id": "FcvlEGY-6EXS",
        "outputId": "0ab213a3-27ac-4d57-945b-7dbb76f158b4"
      },
      "execution_count": null,
      "outputs": [
        {
          "output_type": "display_data",
          "data": {
            "text/plain": [
              "<Figure size 432x288 with 1 Axes>"
            ],
            "image/png": "[encoded data removed]"
          },
          "metadata": {
            "needs_background": "light"
          }
        }
      ]
    },
    {
      "cell_type": "code",
      "source": [
        "X = X.astype(np.float32)\n",
        "Y = Y.astype(np.float32)"
      ],
      "metadata": {
        "id": "N9iJPIPW6KeG"
      },
      "execution_count": null,
      "outputs": []
    },
    {
      "cell_type": "code",
      "source": [
        "# Linear Model\n",
        "model = nn.Linear(1, 1)"
      ],
      "metadata": {
        "id": "qCYvRhnm9BuC"
      },
      "execution_count": null,
      "outputs": []
    },
    {
      "cell_type": "code",
      "source": [
        "# loss and optimizer\n",
        "criterion = nn.MSELoss()\n",
        "optimizer = torch.optim.SGD(model.parameters(), lr=0.1, momentum=0.7)"
      ],
      "metadata": {
        "id": "mybYTyya9Pwl"
      },
      "execution_count": null,
      "outputs": []
    },
    {
      "cell_type": "code",
      "source": [
        "inputs = torch.from_numpy(X)\n",
        "targets = torch.from_numpy(Y)"
      ],
      "metadata": {
        "id": "3lFVXqg_95Ji"
      },
      "execution_count": null,
      "outputs": []
    },
    {
      "cell_type": "code",
      "source": [
        "# number of iterations\n",
        "n_epochs = 100\n",
        "\n",
        "# list to store the losses\n",
        "losses = []\n",
        "\n",
        "for it in range(n_epochs):\n",
        "    # set the gradients to zero\n",
        "    optimizer.zero_grad()\n",
        "\n",
        "    # forward propagation\n",
        "    outputs = model(inputs)\n",
        "    loss = criterion(outputs, targets)\n",
        "\n",
        "    # save the loss in the losses list\n",
        "    # .item() fn to convert from pytorch to normal to python \n",
        "    # .numpy() not used because loss is not a list/array\n",
        "    losses.append(loss.item())\n",
        "\n",
        "    # backward propagation\n",
        "    loss.backward()\n",
        "\n",
        "    # go to next step now\n",
        "    optimizer.step()\n",
        "\n",
        "    # print the epoch and error\n",
        "    print(f\"Epoch: {it+1}/{n_epochs}, Error: {loss}\")\n"
      ],
      "metadata": {
        "colab": {
          "base_uri": "https://localhost:8080/"
        },
        "id": "-sUPYW_t-ESg",
        "outputId": "732af510-6980-413d-ad21-bed7beee1c84"
      },
      "execution_count": null,
      "outputs": [
        {
          "output_type": "stream",
          "name": "stdout",
          "text": [
            "Epoch: 1/100, Error: 0.05300479382276535\n",
            "Epoch: 2/100, Error: 0.0529896542429924\n",
            "Epoch: 3/100, Error: 0.05299511179327965\n",
            "Epoch: 4/100, Error: 0.053003303706645966\n",
            "Epoch: 5/100, Error: 0.05300486460328102\n",
            "Epoch: 6/100, Error: 0.05300028994679451\n",
            "Epoch: 7/100, Error: 0.05299430340528488\n",
            "Epoch: 8/100, Error: 0.05299052968621254\n",
            "Epoch: 9/100, Error: 0.052989594638347626\n",
            "Epoch: 10/100, Error: 0.052990205585956573\n",
            "Epoch: 11/100, Error: 0.0529908612370491\n",
            "Epoch: 12/100, Error: 0.05299089476466179\n",
            "Epoch: 13/100, Error: 0.05299043655395508\n",
            "Epoch: 14/100, Error: 0.052989937365055084\n",
            "Epoch: 15/100, Error: 0.052989646792411804\n",
            "Epoch: 16/100, Error: 0.052989594638347626\n",
            "Epoch: 17/100, Error: 0.0529896579682827\n",
            "Epoch: 18/100, Error: 0.052989713847637177\n",
            "Epoch: 19/100, Error: 0.05298970639705658\n",
            "Epoch: 20/100, Error: 0.0529896542429924\n",
            "Epoch: 21/100, Error: 0.05298962444067001\n",
            "Epoch: 22/100, Error: 0.052989594638347626\n",
            "Epoch: 23/100, Error: 0.05298960208892822\n",
            "Epoch: 24/100, Error: 0.05298960208892822\n",
            "Epoch: 25/100, Error: 0.05298960208892822\n",
            "Epoch: 26/100, Error: 0.05298960581421852\n",
            "Epoch: 27/100, Error: 0.052989594638347626\n",
            "Epoch: 28/100, Error: 0.052989594638347626\n",
            "Epoch: 29/100, Error: 0.052989594638347626\n",
            "Epoch: 30/100, Error: 0.05298960208892822\n",
            "Epoch: 31/100, Error: 0.052989594638347626\n",
            "Epoch: 32/100, Error: 0.052989594638347626\n",
            "Epoch: 33/100, Error: 0.05298958718776703\n",
            "Epoch: 34/100, Error: 0.052989594638347626\n",
            "Epoch: 35/100, Error: 0.052989594638347626\n",
            "Epoch: 36/100, Error: 0.05298958346247673\n",
            "Epoch: 37/100, Error: 0.05298958718776703\n",
            "Epoch: 38/100, Error: 0.05298960208892822\n",
            "Epoch: 39/100, Error: 0.052989594638347626\n",
            "Epoch: 40/100, Error: 0.052989594638347626\n",
            "Epoch: 41/100, Error: 0.052989594638347626\n",
            "Epoch: 42/100, Error: 0.052989594638347626\n",
            "Epoch: 43/100, Error: 0.05298960208892822\n",
            "Epoch: 44/100, Error: 0.05298958718776703\n",
            "Epoch: 45/100, Error: 0.052989594638347626\n",
            "Epoch: 46/100, Error: 0.052989594638347626\n",
            "Epoch: 47/100, Error: 0.052989594638347626\n",
            "Epoch: 48/100, Error: 0.05298958718776703\n",
            "Epoch: 49/100, Error: 0.05298958718776703\n",
            "Epoch: 50/100, Error: 0.052989594638347626\n",
            "Epoch: 51/100, Error: 0.05298958718776703\n",
            "Epoch: 52/100, Error: 0.05298960208892822\n",
            "Epoch: 53/100, Error: 0.05298960208892822\n",
            "Epoch: 54/100, Error: 0.052989594638347626\n",
            "Epoch: 55/100, Error: 0.052989594638347626\n",
            "Epoch: 56/100, Error: 0.052989594638347626\n",
            "Epoch: 57/100, Error: 0.052989594638347626\n",
            "Epoch: 58/100, Error: 0.05298958346247673\n",
            "Epoch: 59/100, Error: 0.052989594638347626\n",
            "Epoch: 60/100, Error: 0.052989594638347626\n",
            "Epoch: 61/100, Error: 0.05298958718776703\n",
            "Epoch: 62/100, Error: 0.05298958718776703\n",
            "Epoch: 63/100, Error: 0.052989594638347626\n",
            "Epoch: 64/100, Error: 0.052989594638347626\n",
            "Epoch: 65/100, Error: 0.052989594638347626\n",
            "Epoch: 66/100, Error: 0.052989594638347626\n",
            "Epoch: 67/100, Error: 0.05298960208892822\n",
            "Epoch: 68/100, Error: 0.05298960208892822\n",
            "Epoch: 69/100, Error: 0.05298960208892822\n",
            "Epoch: 70/100, Error: 0.052989594638347626\n",
            "Epoch: 71/100, Error: 0.052989594638347626\n",
            "Epoch: 72/100, Error: 0.052989594638347626\n",
            "Epoch: 73/100, Error: 0.052989594638347626\n",
            "Epoch: 74/100, Error: 0.052989594638347626\n",
            "Epoch: 75/100, Error: 0.052989594638347626\n",
            "Epoch: 76/100, Error: 0.052989594638347626\n",
            "Epoch: 77/100, Error: 0.052989594638347626\n",
            "Epoch: 78/100, Error: 0.052989594638347626\n",
            "Epoch: 79/100, Error: 0.052989594638347626\n",
            "Epoch: 80/100, Error: 0.052989594638347626\n",
            "Epoch: 81/100, Error: 0.052989594638347626\n",
            "Epoch: 82/100, Error: 0.052989594638347626\n",
            "Epoch: 83/100, Error: 0.052989594638347626\n",
            "Epoch: 84/100, Error: 0.052989594638347626\n",
            "Epoch: 85/100, Error: 0.052989594638347626\n",
            "Epoch: 86/100, Error: 0.052989594638347626\n",
            "Epoch: 87/100, Error: 0.052989594638347626\n",
            "Epoch: 88/100, Error: 0.052989594638347626\n",
            "Epoch: 89/100, Error: 0.052989594638347626\n",
            "Epoch: 90/100, Error: 0.052989594638347626\n",
            "Epoch: 91/100, Error: 0.052989594638347626\n",
            "Epoch: 92/100, Error: 0.052989594638347626\n",
            "Epoch: 93/100, Error: 0.052989594638347626\n",
            "Epoch: 94/100, Error: 0.052989594638347626\n",
            "Epoch: 95/100, Error: 0.05298960208892822\n",
            "Epoch: 96/100, Error: 0.052989594638347626\n",
            "Epoch: 97/100, Error: 0.052989594638347626\n",
            "Epoch: 98/100, Error: 0.052989594638347626\n",
            "Epoch: 99/100, Error: 0.052989594638347626\n",
            "Epoch: 100/100, Error: 0.052989594638347626\n"
          ]
        }
      ]
    },
    {
      "cell_type": "code",
      "source": [
        "# plot the losses at each epoch\n",
        "plt.plot(losses);"
      ],
      "metadata": {
        "colab": {
          "base_uri": "https://localhost:8080/",
          "height": 265
        },
        "id": "TCk9kF9h_nu2",
        "outputId": "177f6cc4-4701-4080-c91f-1b8f4847e56a"
      },
      "execution_count": null,
      "outputs": [
        {
          "output_type": "display_data",
          "data": {
            "text/plain": [
              "<Figure size 432x288 with 1 Axes>"
            ],
            "image/png": "[encoded data removed]"
          },
          "metadata": {
            "needs_background": "light"
          }
        }
      ]
    },
    {
      "cell_type": "code",
      "source": [
        "# plot the function\n",
        "predicted = model(inputs).detach().numpy()\n",
        "plt.scatter(X, Y, label='original data')\n",
        "plt.plot(X, predicted, label='fitted line', color='red')\n",
        "plt.legend()\n",
        "plt.show()"
      ],
      "metadata": {
        "colab": {
          "base_uri": "https://localhost:8080/",
          "height": 265
        },
        "id": "0csAKPS8_tdI",
        "outputId": "90f8c1ca-710a-467b-e90b-accc893b3e59"
      },
      "execution_count": null,
      "outputs": [
        {
          "output_type": "display_data",
          "data": {
            "text/plain": [
              "<Figure size 432x288 with 1 Axes>"
            ],
            "image/png": "[encoded data removed]"
          },
          "metadata": {
            "needs_background": "light"
          }
        }
      ]
    },
    {
      "cell_type": "code",
      "source": [
        "w = model.weight.data.numpy()\n",
        "print(w)"
      ],
      "metadata": {
        "colab": {
          "base_uri": "https://localhost:8080/"
        },
        "id": "iGvHOhbYAjvS",
        "outputId": "ec99b8cd-add0-4f69-8bca-4b8a9b22eace"
      },
      "execution_count": null,
      "outputs": [
        {
          "output_type": "stream",
          "name": "stdout",
          "text": [
            "[[0.9731446]]\n"
          ]
        }
      ]
    },
    {
      "cell_type": "code",
      "source": [
        "# to find the value of a\n",
        "a = w[0, 0] * sy / sx\n",
        "print(a)"
      ],
      "metadata": {
        "colab": {
          "base_uri": "https://localhost:8080/"
        },
        "id": "yNbkatXKBhE4",
        "outputId": "0ef26f02-faea-4dda-c5dd-578b660aa9a3"
      },
      "execution_count": null,
      "outputs": [
        {
          "output_type": "stream",
          "name": "stdout",
          "text": [
            "0.30623518731553756\n"
          ]
        }
      ]
    },
    {
      "cell_type": "code",
      "source": [
        "# time take to double the transistors\n",
        "delTime = np.log(2) / a\n",
        "print(f'Time taken double the transistors on the board of same size is: {delTime:.2f} years.')"
      ],
      "metadata": {
        "colab": {
          "base_uri": "https://localhost:8080/"
        },
        "id": "Z3QiiDfbDgOF",
        "outputId": "cefe1b9b-8829-4d19-be20-516ce94c1487"
      },
      "execution_count": null,
      "outputs": [
        {
          "output_type": "stream",
          "name": "stdout",
          "text": [
            "Time taken double the transistors on the board of same size is: 2.26 years.\n"
          ]
        }
      ]
    },
    {
      "cell_type": "markdown",
      "source": [
        "# Exercise\n",
        "\n",
        "What happens when you *don't* normalize the data?\n",
        "\n",
        "This makes it easier because you no longer need to do the transformation step.\n",
        "\n",
        "But what happens to the optimization? Can you use the same learning rate as we did originally?"
      ],
      "metadata": {
        "id": "GP1DQGGyEJw9"
      }
    },
    {
      "cell_type": "code",
      "source": [
        "X = data[:, 0].reshape(-1, 1)\n",
        "Y = data[:, 1].reshape(-1, 1)"
      ],
      "metadata": {
        "id": "16fwubAvD0U6"
      },
      "execution_count": null,
      "outputs": []
    },
    {
      "cell_type": "code",
      "source": [
        "plt.scatter(X, Y);"
      ],
      "metadata": {
        "colab": {
          "base_uri": "https://localhost:8080/",
          "height": 276
        },
        "id": "DcN2K0bcEveN",
        "outputId": "204afbfc-80ac-4575-9204-3dcfba201283"
      },
      "execution_count": null,
      "outputs": [
        {
          "output_type": "display_data",
          "data": {
            "text/plain": [
              "<Figure size 432x288 with 1 Axes>"
            ],
            "image/png": "[encoded data removed]"
          },
          "metadata": {
            "needs_background": "light"
          }
        }
      ]
    },
    {
      "cell_type": "code",
      "source": [
        "# to make a linear model, take log\n",
        "Y = np.log(Y)\n",
        "plt.scatter(X, Y);"
      ],
      "metadata": {
        "colab": {
          "base_uri": "https://localhost:8080/",
          "height": 265
        },
        "id": "zuRJbK9HFA8C",
        "outputId": "c00eca08-9206-4f02-a416-65b29b96edc0"
      },
      "execution_count": null,
      "outputs": [
        {
          "output_type": "display_data",
          "data": {
            "text/plain": [
              "<Figure size 432x288 with 1 Axes>"
            ],
            "image/png": "[encoded data removed]"
          },
          "metadata": {
            "needs_background": "light"
          }
        }
      ]
    },
    {
      "cell_type": "code",
      "source": [
        "X = X.astype(np.float32)\n",
        "Y = Y.astype(np.float32)"
      ],
      "metadata": {
        "id": "y9W9ILOOFCu9"
      },
      "execution_count": null,
      "outputs": []
    },
    {
      "cell_type": "code",
      "source": [
        "# Linear Model\n",
        "model = nn.Linear(1, 1)"
      ],
      "metadata": {
        "id": "U8mpNWijEfGJ"
      },
      "execution_count": null,
      "outputs": []
    },
    {
      "cell_type": "code",
      "source": [
        "# loss and optimizer\n",
        "criterion = nn.MSELoss()\n",
        "optimizer = torch.optim.SGD(model.parameters(), lr=0.01, momentum=0.7)"
      ],
      "metadata": {
        "id": "9l-Gso5aEgj9"
      },
      "execution_count": null,
      "outputs": []
    },
    {
      "cell_type": "code",
      "source": [
        "inputs = torch.from_numpy(X)\n",
        "targets = torch.from_numpy(Y)"
      ],
      "metadata": {
        "id": "soUXAVQiEizu"
      },
      "execution_count": null,
      "outputs": []
    },
    {
      "cell_type": "code",
      "source": [
        "# number of iterations\n",
        "n_epochs = 30\n",
        "\n",
        "# list to store the losses\n",
        "losses = []\n",
        "\n",
        "for it in range(n_epochs):\n",
        "    # set the gradients to zero\n",
        "    optimizer.zero_grad()\n",
        "\n",
        "    # forward propagation\n",
        "    outputs = model(inputs)\n",
        "    loss = criterion(outputs, targets)\n",
        "\n",
        "    # save the loss in the losses list\n",
        "    # .item() fn to convert from pytorch to normal to python \n",
        "    # .numpy() not used because loss is not a list/array\n",
        "    losses.append(loss.item())\n",
        "\n",
        "    # backward propagation\n",
        "    loss.backward()\n",
        "\n",
        "    # go to next step now\n",
        "    optimizer.step()\n",
        "\n",
        "    # print the epoch and error\n",
        "    print(f\"Epoch: {it+1}/{n_epochs}, Error: {loss}\")\n"
      ],
      "metadata": {
        "colab": {
          "base_uri": "https://localhost:8080/"
        },
        "id": "764ZkmXcEmLY",
        "outputId": "e9dc6070-a071-4c68-fd28-20e13cb9daea"
      },
      "execution_count": null,
      "outputs": [
        {
          "output_type": "stream",
          "name": "stdout",
          "text": [
            "Epoch: 1/30, Error: nan\n",
            "Epoch: 2/30, Error: nan\n",
            "Epoch: 3/30, Error: nan\n",
            "Epoch: 4/30, Error: nan\n",
            "Epoch: 5/30, Error: nan\n",
            "Epoch: 6/30, Error: nan\n",
            "Epoch: 7/30, Error: nan\n",
            "Epoch: 8/30, Error: nan\n",
            "Epoch: 9/30, Error: nan\n",
            "Epoch: 10/30, Error: nan\n",
            "Epoch: 11/30, Error: nan\n",
            "Epoch: 12/30, Error: nan\n",
            "Epoch: 13/30, Error: nan\n",
            "Epoch: 14/30, Error: nan\n",
            "Epoch: 15/30, Error: nan\n",
            "Epoch: 16/30, Error: nan\n",
            "Epoch: 17/30, Error: nan\n",
            "Epoch: 18/30, Error: nan\n",
            "Epoch: 19/30, Error: nan\n",
            "Epoch: 20/30, Error: nan\n",
            "Epoch: 21/30, Error: nan\n",
            "Epoch: 22/30, Error: nan\n",
            "Epoch: 23/30, Error: nan\n",
            "Epoch: 24/30, Error: nan\n",
            "Epoch: 25/30, Error: nan\n",
            "Epoch: 26/30, Error: nan\n",
            "Epoch: 27/30, Error: nan\n",
            "Epoch: 28/30, Error: nan\n",
            "Epoch: 29/30, Error: nan\n",
            "Epoch: 30/30, Error: nan\n"
          ]
        }
      ]
    },
    {
      "cell_type": "code",
      "source": [
        "# plot the losses at each epoch\n",
        "plt.plot(losses);"
      ],
      "metadata": {
        "colab": {
          "base_uri": "https://localhost:8080/",
          "height": 265
        },
        "id": "jcVtKiPHEoAs",
        "outputId": "2efe7ece-a03f-4d57-ed5c-308c5c66a068"
      },
      "execution_count": null,
      "outputs": [
        {
          "output_type": "display_data",
          "data": {
            "text/plain": [
              "<Figure size 432x288 with 1 Axes>"
            ],
            "image/png": "[encoded data removed]"
          },
          "metadata": {
            "needs_background": "light"
          }
        }
      ]
    },
    {
      "cell_type": "code",
      "source": [
        ""
      ],
      "metadata": {
        "id": "jK6SHYEuFpJs"
      },
      "execution_count": null,
      "outputs": []
    }
  ]
}