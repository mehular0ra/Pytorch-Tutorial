{
  "nbformat": 4,
  "nbformat_minor": 0,
  "metadata": {
    "colab": {
      "name": "Pytorch Linear Classification (Logits).ipynb",
      "provenance": [],
      "authorship_tag": "ABX9TyOrkRqg/DJDQgzGM3ufSBGu",
      "include_colab_link": true
    },
    "kernelspec": {
      "name": "python3",
      "display_name": "Python 3"
    },
    "language_info": {
      "name": "python"
    }
  },
  "cells": [
    {
      "cell_type": "markdown",
      "metadata": {
        "id": "view-in-github",
        "colab_type": "text"
      },
      "source": [
        "<a href=\"https://colab.research.google.com/github/mehular0ra/Pytorch-Tutorial/blob/main/Pytorch_Linear_Classification_(Logits).ipynb\" target=\"_parent\"><img src=\"https://colab.research.google.com/assets/colab-badge.svg\" alt=\"Open In Colab\"/></a>"
      ]
    },
    {
      "cell_type": "code",
      "execution_count": 2,
      "metadata": {
        "id": "RXYW-O7szy3E"
      },
      "outputs": [],
      "source": [
        "import torch\n",
        "import torch.nn as nn\n",
        "import numpy as np\n",
        "import pandas as pd\n",
        "import matplotlib.pyplot as plt"
      ]
    },
    {
      "cell_type": "code",
      "source": [
        "# loading in the data\n",
        "from sklearn.datasets import load_breast_cancer"
      ],
      "metadata": {
        "id": "7mO2JQ2I0EJ8"
      },
      "execution_count": 3,
      "outputs": []
    },
    {
      "cell_type": "code",
      "source": [
        "# loading the data\n",
        "data = load_breast_cancer()"
      ],
      "metadata": {
        "id": "uzYYU70g0QWt"
      },
      "execution_count": 4,
      "outputs": []
    },
    {
      "cell_type": "code",
      "source": [
        "from sklearn.model_selection import train_test_split\n",
        "\n",
        "X_train, X_test, y_train, y_test = train_test_split(data.data, data.target, test_size = 0.33)\n",
        "N, D = X_train.shape"
      ],
      "metadata": {
        "id": "L_ad1wiX0SmD"
      },
      "execution_count": 69,
      "outputs": []
    },
    {
      "cell_type": "code",
      "source": [
        "# standardize the dataset according to the training data\n",
        "from sklearn.preprocessing import StandardScaler\n",
        "scaler = StandardScaler()\n",
        "X_train = scaler.fit_transform(X_train)\n",
        "X_test = scaler.transform(X_test)\n"
      ],
      "metadata": {
        "id": "Sb4SSVOd0nDN"
      },
      "execution_count": 70,
      "outputs": []
    },
    {
      "cell_type": "code",
      "source": [
        "# initialize the model \n",
        "model = nn.Linear(D, 1)"
      ],
      "metadata": {
        "id": "8poDoz7k1RJo"
      },
      "execution_count": 71,
      "outputs": []
    },
    {
      "cell_type": "code",
      "source": [
        "# loss and optimizer\n",
        "criterion = nn.BCEWithLogitsLoss()\n",
        "optimizer = torch.optim.Adam(params = model.parameters())"
      ],
      "metadata": {
        "id": "sahJfiI2124G"
      },
      "execution_count": 72,
      "outputs": []
    },
    {
      "cell_type": "code",
      "source": [
        "print(type(X_train), type(X_test))\n",
        "print(f'X_train shape: {X_train.shape}')\n",
        "print(f'X_test shape: {X_test.shape}')\n",
        "print(f'y_train shape: {y_train.shape}')\n",
        "print(f'y_test shape: {y_test.shape}')"
      ],
      "metadata": {
        "colab": {
          "base_uri": "https://localhost:8080/"
        },
        "id": "RPhQ2Q9K3rCj",
        "outputId": "fce8ee92-4b4e-4c7d-d7b9-8bfa2a4f28d6"
      },
      "execution_count": 73,
      "outputs": [
        {
          "output_type": "stream",
          "name": "stdout",
          "text": [
            "<class 'numpy.ndarray'> <class 'numpy.ndarray'>\n",
            "X_train shape: (381, 30)\n",
            "X_test shape: (188, 30)\n",
            "y_train shape: (381,)\n",
            "y_test shape: (188,)\n"
          ]
        }
      ]
    },
    {
      "cell_type": "code",
      "source": [
        "# convert data into float32 format\n",
        "X_train = torch.from_numpy(X_train.astype(np.float32))\n",
        "y_train = torch.from_numpy(y_train.astype(np.float32).reshape(-1, 1))\n",
        "\n",
        "X_test = torch.from_numpy(X_test.astype(np.float32))\n",
        "y_test = torch.from_numpy(y_test.astype(np.float32).reshape(-1, 1))"
      ],
      "metadata": {
        "id": "9V__02Zi32-L"
      },
      "execution_count": 74,
      "outputs": []
    },
    {
      "cell_type": "code",
      "source": [
        "n_epochs = 1000\n",
        "\n",
        "# save the train and test losses\n",
        "train_losses = []\n",
        "test_losses = []\n",
        "train_access = []\n",
        "test_access = []\n",
        "\n",
        "for it in range(n_epochs): \n",
        "    # zero the gradient parameters\n",
        "    optimizer.zero_grad()\n",
        "\n",
        "    # forward\n",
        "    outputs = model(X_train)\n",
        "    loss = criterion(outputs, y_train)\n",
        "\n",
        "    # backward and optimize\n",
        "    loss.backward()\n",
        "    optimizer.step()\n",
        "\n",
        "    # get the test loss\n",
        "    outputs_test = model(X_test)\n",
        "    loss_test = criterion(outputs_test, y_test)\n",
        "\n",
        "    # save train and test loss\n",
        "    train_losses.append(loss.item())\n",
        "    test_losses.append(loss_test.item())\n",
        "\n",
        "    # calculate accuracy \n",
        "    with torch.no_grad():\n",
        "        p_train = (outputs.numpy() > 0)\n",
        "        train_acc = np.mean(y_train.numpy() == p_train)\n",
        "        train_access.append(train_acc)\n",
        "\n",
        "        p_test = (outputs_test.numpy() > 0)\n",
        "        test_acc = np.mean(y_test.numpy() == p_test)\n",
        "        test_access.append(test_acc)\n",
        "\n",
        "    if (it+1) % 10 == 0: \n",
        "        print(f'Iteration: {it+1}/{n_epochs}, train accuracy: {train_acc:.4f}, test accuracy: {test_acc:.4f}')\n"
      ],
      "metadata": {
        "colab": {
          "base_uri": "https://localhost:8080/"
        },
        "id": "tUuzqlMB3ExX",
        "outputId": "5ea5d770-06a5-480a-cb5b-7e2370a12bbc"
      },
      "execution_count": 75,
      "outputs": [
        {
          "output_type": "stream",
          "name": "stdout",
          "text": [
            "Iteration: 10/1000, train accuracy: 0.0971, test accuracy: 0.0745\n",
            "Iteration: 20/1000, train accuracy: 0.1312, test accuracy: 0.1064\n",
            "Iteration: 30/1000, train accuracy: 0.1654, test accuracy: 0.1915\n",
            "Iteration: 40/1000, train accuracy: 0.2730, test accuracy: 0.2766\n",
            "Iteration: 50/1000, train accuracy: 0.4173, test accuracy: 0.4202\n",
            "Iteration: 60/1000, train accuracy: 0.5722, test accuracy: 0.5851\n",
            "Iteration: 70/1000, train accuracy: 0.6929, test accuracy: 0.7181\n",
            "Iteration: 80/1000, train accuracy: 0.7769, test accuracy: 0.7660\n",
            "Iteration: 90/1000, train accuracy: 0.8268, test accuracy: 0.8191\n",
            "Iteration: 100/1000, train accuracy: 0.8504, test accuracy: 0.8351\n",
            "Iteration: 110/1000, train accuracy: 0.8688, test accuracy: 0.8670\n",
            "Iteration: 120/1000, train accuracy: 0.8871, test accuracy: 0.8830\n",
            "Iteration: 130/1000, train accuracy: 0.9055, test accuracy: 0.8989\n",
            "Iteration: 140/1000, train accuracy: 0.9108, test accuracy: 0.8989\n",
            "Iteration: 150/1000, train accuracy: 0.9160, test accuracy: 0.9149\n",
            "Iteration: 160/1000, train accuracy: 0.9186, test accuracy: 0.9149\n",
            "Iteration: 170/1000, train accuracy: 0.9213, test accuracy: 0.9149\n",
            "Iteration: 180/1000, train accuracy: 0.9239, test accuracy: 0.9202\n",
            "Iteration: 190/1000, train accuracy: 0.9265, test accuracy: 0.9255\n",
            "Iteration: 200/1000, train accuracy: 0.9265, test accuracy: 0.9362\n",
            "Iteration: 210/1000, train accuracy: 0.9291, test accuracy: 0.9362\n",
            "Iteration: 220/1000, train accuracy: 0.9291, test accuracy: 0.9415\n",
            "Iteration: 230/1000, train accuracy: 0.9318, test accuracy: 0.9415\n",
            "Iteration: 240/1000, train accuracy: 0.9318, test accuracy: 0.9521\n",
            "Iteration: 250/1000, train accuracy: 0.9344, test accuracy: 0.9521\n",
            "Iteration: 260/1000, train accuracy: 0.9370, test accuracy: 0.9521\n",
            "Iteration: 270/1000, train accuracy: 0.9370, test accuracy: 0.9521\n",
            "Iteration: 280/1000, train accuracy: 0.9396, test accuracy: 0.9521\n",
            "Iteration: 290/1000, train accuracy: 0.9423, test accuracy: 0.9521\n",
            "Iteration: 300/1000, train accuracy: 0.9449, test accuracy: 0.9521\n",
            "Iteration: 310/1000, train accuracy: 0.9475, test accuracy: 0.9574\n",
            "Iteration: 320/1000, train accuracy: 0.9501, test accuracy: 0.9574\n",
            "Iteration: 330/1000, train accuracy: 0.9528, test accuracy: 0.9574\n",
            "Iteration: 340/1000, train accuracy: 0.9528, test accuracy: 0.9574\n",
            "Iteration: 350/1000, train accuracy: 0.9554, test accuracy: 0.9628\n",
            "Iteration: 360/1000, train accuracy: 0.9554, test accuracy: 0.9628\n",
            "Iteration: 370/1000, train accuracy: 0.9580, test accuracy: 0.9628\n",
            "Iteration: 380/1000, train accuracy: 0.9580, test accuracy: 0.9628\n",
            "Iteration: 390/1000, train accuracy: 0.9606, test accuracy: 0.9628\n",
            "Iteration: 400/1000, train accuracy: 0.9606, test accuracy: 0.9628\n",
            "Iteration: 410/1000, train accuracy: 0.9606, test accuracy: 0.9628\n",
            "Iteration: 420/1000, train accuracy: 0.9633, test accuracy: 0.9628\n",
            "Iteration: 430/1000, train accuracy: 0.9633, test accuracy: 0.9628\n",
            "Iteration: 440/1000, train accuracy: 0.9659, test accuracy: 0.9628\n",
            "Iteration: 450/1000, train accuracy: 0.9659, test accuracy: 0.9628\n",
            "Iteration: 460/1000, train accuracy: 0.9659, test accuracy: 0.9628\n",
            "Iteration: 470/1000, train accuracy: 0.9659, test accuracy: 0.9628\n",
            "Iteration: 480/1000, train accuracy: 0.9659, test accuracy: 0.9628\n",
            "Iteration: 490/1000, train accuracy: 0.9659, test accuracy: 0.9628\n",
            "Iteration: 500/1000, train accuracy: 0.9659, test accuracy: 0.9628\n",
            "Iteration: 510/1000, train accuracy: 0.9659, test accuracy: 0.9628\n",
            "Iteration: 520/1000, train accuracy: 0.9659, test accuracy: 0.9628\n",
            "Iteration: 530/1000, train accuracy: 0.9659, test accuracy: 0.9628\n",
            "Iteration: 540/1000, train accuracy: 0.9659, test accuracy: 0.9681\n",
            "Iteration: 550/1000, train accuracy: 0.9659, test accuracy: 0.9681\n",
            "Iteration: 560/1000, train accuracy: 0.9659, test accuracy: 0.9681\n",
            "Iteration: 570/1000, train accuracy: 0.9659, test accuracy: 0.9681\n",
            "Iteration: 580/1000, train accuracy: 0.9659, test accuracy: 0.9681\n",
            "Iteration: 590/1000, train accuracy: 0.9659, test accuracy: 0.9681\n",
            "Iteration: 600/1000, train accuracy: 0.9659, test accuracy: 0.9681\n",
            "Iteration: 610/1000, train accuracy: 0.9659, test accuracy: 0.9681\n",
            "Iteration: 620/1000, train accuracy: 0.9659, test accuracy: 0.9681\n",
            "Iteration: 630/1000, train accuracy: 0.9711, test accuracy: 0.9681\n",
            "Iteration: 640/1000, train accuracy: 0.9711, test accuracy: 0.9681\n",
            "Iteration: 650/1000, train accuracy: 0.9711, test accuracy: 0.9681\n",
            "Iteration: 660/1000, train accuracy: 0.9711, test accuracy: 0.9681\n",
            "Iteration: 670/1000, train accuracy: 0.9711, test accuracy: 0.9681\n",
            "Iteration: 680/1000, train accuracy: 0.9711, test accuracy: 0.9681\n",
            "Iteration: 690/1000, train accuracy: 0.9711, test accuracy: 0.9681\n",
            "Iteration: 700/1000, train accuracy: 0.9711, test accuracy: 0.9628\n",
            "Iteration: 710/1000, train accuracy: 0.9711, test accuracy: 0.9628\n",
            "Iteration: 720/1000, train accuracy: 0.9711, test accuracy: 0.9628\n",
            "Iteration: 730/1000, train accuracy: 0.9711, test accuracy: 0.9628\n",
            "Iteration: 740/1000, train accuracy: 0.9711, test accuracy: 0.9628\n",
            "Iteration: 750/1000, train accuracy: 0.9711, test accuracy: 0.9628\n",
            "Iteration: 760/1000, train accuracy: 0.9711, test accuracy: 0.9628\n",
            "Iteration: 770/1000, train accuracy: 0.9711, test accuracy: 0.9628\n",
            "Iteration: 780/1000, train accuracy: 0.9711, test accuracy: 0.9628\n",
            "Iteration: 790/1000, train accuracy: 0.9711, test accuracy: 0.9628\n",
            "Iteration: 800/1000, train accuracy: 0.9711, test accuracy: 0.9628\n",
            "Iteration: 810/1000, train accuracy: 0.9711, test accuracy: 0.9628\n",
            "Iteration: 820/1000, train accuracy: 0.9711, test accuracy: 0.9628\n",
            "Iteration: 830/1000, train accuracy: 0.9711, test accuracy: 0.9628\n",
            "Iteration: 840/1000, train accuracy: 0.9711, test accuracy: 0.9628\n",
            "Iteration: 850/1000, train accuracy: 0.9711, test accuracy: 0.9628\n",
            "Iteration: 860/1000, train accuracy: 0.9711, test accuracy: 0.9628\n",
            "Iteration: 870/1000, train accuracy: 0.9711, test accuracy: 0.9628\n",
            "Iteration: 880/1000, train accuracy: 0.9711, test accuracy: 0.9628\n",
            "Iteration: 890/1000, train accuracy: 0.9711, test accuracy: 0.9628\n",
            "Iteration: 900/1000, train accuracy: 0.9711, test accuracy: 0.9628\n",
            "Iteration: 910/1000, train accuracy: 0.9711, test accuracy: 0.9628\n",
            "Iteration: 920/1000, train accuracy: 0.9711, test accuracy: 0.9628\n",
            "Iteration: 930/1000, train accuracy: 0.9711, test accuracy: 0.9628\n",
            "Iteration: 940/1000, train accuracy: 0.9711, test accuracy: 0.9681\n",
            "Iteration: 950/1000, train accuracy: 0.9738, test accuracy: 0.9681\n",
            "Iteration: 960/1000, train accuracy: 0.9738, test accuracy: 0.9681\n",
            "Iteration: 970/1000, train accuracy: 0.9738, test accuracy: 0.9681\n",
            "Iteration: 980/1000, train accuracy: 0.9738, test accuracy: 0.9681\n",
            "Iteration: 990/1000, train accuracy: 0.9738, test accuracy: 0.9681\n",
            "Iteration: 1000/1000, train accuracy: 0.9738, test accuracy: 0.9681\n"
          ]
        }
      ]
    },
    {
      "cell_type": "code",
      "source": [
        "plt.plot(train_access, label='train accuracy')\n",
        "plt.plot(test_access, label='test accuracy')\n",
        "plt.legend()\n",
        "plt.show()"
      ],
      "metadata": {
        "colab": {
          "base_uri": "https://localhost:8080/",
          "height": 265
        },
        "id": "6WfgKYYu6ZTd",
        "outputId": "36680d5a-4001-44fa-d337-4b7009fd708a"
      },
      "execution_count": 76,
      "outputs": [
        {
          "output_type": "display_data",
          "data": {
            "text/plain": [
              "<Figure size 432x288 with 1 Axes>"
            ],
            "image/png": "[encoded data removed]"
          },
          "metadata": {
            "needs_background": "light"
          }
        }
      ]
    },
    {
      "cell_type": "code",
      "source": [
        ""
      ],
      "metadata": {
        "id": "O6-Bs_sn8_uX"
      },
      "execution_count": null,
      "outputs": []
    }
  ]
}